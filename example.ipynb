{
 "cells": [
  {
   "cell_type": "code",
   "execution_count": 1,
   "outputs": [],
   "source": [
    "import paddle\n",
    "import paddle.nn as nn"
   ],
   "metadata": {
    "collapsed": false
   }
  },
  {
   "cell_type": "code",
   "execution_count": 2,
   "outputs": [],
   "source": [
    "import collections\n",
    "\n",
    "\n",
    "def load_data(data_path, is_test=False):\n",
    "    dataset = []\n",
    "    with open(data_path, 'r', encoding='utf-8') as f:\n",
    "        for line in f:\n",
    "            if not is_test:\n",
    "                items = line.strip().split('\\t')\n",
    "                if len(items) != 3:\n",
    "                    continue\n",
    "                sent = items[2].strip()\n",
    "                label = items[1].strip()\n",
    "                dataset.append((sent, label))\n",
    "            else:\n",
    "                dataset.append(line.strip())\n",
    "    return dataset\n",
    "\n",
    "\n",
    "def build_dict(train_data):\n",
    "    word_freq = collections.defaultdict(int)\n",
    "    label_set = set()\n",
    "    for seq, label in train_data:\n",
    "        for word in seq:\n",
    "            word_freq[word] += 1\n",
    "        label_set.add(label)\n",
    "    temp = sorted(word_freq.items(), key=lambda x: x[1], reverse=False)\n",
    "    words, _ = list(zip(*temp))\n",
    "    word_idx = dict(list(zip(words, range(len(words)))))\n",
    "    word_idx['<unk>'] = len(words)\n",
    "    word_idx['<pad>'] = len(words) + 1\n",
    "    label_idx = dict(list(zip(label_set, range(len(label_set)))))\n",
    "    return word_idx, label_idx"
   ],
   "metadata": {
    "collapsed": false
   }
  },
  {
   "cell_type": "code",
   "execution_count": 3,
   "outputs": [],
   "source": [
    "train_data = load_data('model/Text Classification/data/new.txt', False)\n",
    "word_idx, label_idx = build_dict(train_data)"
   ],
   "metadata": {
    "collapsed": false
   }
  },
  {
   "cell_type": "code",
   "execution_count": 4,
   "outputs": [],
   "source": [
    "vocab_size = len(word_idx)+1\n",
    "epochs = 2\n",
    "\n",
    "class MyLSTM(paddle.nn.Layer):\n",
    "    def __init__(self):\n",
    "        super(MyLSTM, self).__init__()\n",
    "        self.embedding = nn.Embedding(vocab_size, 256)\n",
    "        self.lstm = nn.LSTM(256, 128, num_layers=2, direction='bidirect', dropout=0.5)\n",
    "        self.linear = nn.Linear(in_features=128 * 2, out_features=len(label_idx))\n",
    "        self.dropout = nn.Dropout(0.5)\n",
    "\n",
    "    def forward(self, inputs):\n",
    "        emb = self.dropout(self.embedding(inputs))\n",
    "        output, (h, c) = self.lstm(emb)\n",
    "        x = paddle.mean(output, axis=1)\n",
    "        #x形状大小为[batch_size, hidden_size * num_directions]\n",
    "        x = self.dropout(x)\n",
    "        return self.linear(x)"
   ],
   "metadata": {
    "collapsed": false
   }
  },
  {
   "cell_type": "code",
   "execution_count": 5,
   "outputs": [],
   "source": [
    "import numpy as np\n",
    "\n",
    "\n",
    "def text_to_input(text, word_idx):\n",
    "    words = text.split()\n",
    "    seq = [word_idx.get(word, word_idx['<unk>']) for word in words]\n",
    "    return np.array(seq)\n"
   ],
   "metadata": {
    "collapsed": false
   }
  },
  {
   "cell_type": "code",
   "execution_count": 6,
   "outputs": [
    {
     "data": {
      "text/plain": "([], [])"
     },
     "execution_count": 6,
     "metadata": {},
     "output_type": "execute_result"
    }
   ],
   "source": [
    "# 创建模型实例\n",
    "model = MyLSTM()\n",
    "\n",
    "# 加载已训练好的权重\n",
    "model_state_dict = paddle.load('model/Text Classification/result/model_final1.pdparams')\n",
    "model.set_state_dict(model_state_dict)"
   ],
   "metadata": {
    "collapsed": false
   }
  },
  {
   "cell_type": "code",
   "execution_count": 7,
   "outputs": [],
   "source": [
    "test_text = \"纽约动物园因剧毒眼镜蛇失踪关门谢客(图)\"\n",
    "# 将文本转换为模型输入格式\n",
    "input_seq = text_to_input(test_text, word_idx)\n",
    "\n",
    "# 转换为 paddle.Tensor\n",
    "input_tensor = paddle.to_tensor(input_seq, dtype='int32').unsqueeze(0)"
   ],
   "metadata": {
    "collapsed": false
   }
  },
  {
   "cell_type": "code",
   "execution_count": 8,
   "outputs": [
    {
     "name": "stdout",
     "output_type": "stream",
     "text": [
      "Predicted Label: 房产\n"
     ]
    }
   ],
   "source": [
    "# 使用模型进行预测\n",
    "model.eval()\n",
    "with paddle.no_grad():\n",
    "    output = model(input_tensor)\n",
    "    # 假设输出为概率分布，可以使用 argmax 获取预测结果\n",
    "    predicted_label_idx = paddle.argmax(output, axis=1).item()\n",
    "\n",
    "inverted_dict = {v: k for k, v in label_idx.items()}\n",
    "# 获取预测标签\n",
    "predicted_label = inverted_dict[predicted_label_idx]\n",
    "print(\"Predicted Label:\", predicted_label)"
   ],
   "metadata": {
    "collapsed": false
   }
  },
  {
   "cell_type": "code",
   "execution_count": 8,
   "outputs": [],
   "source": [],
   "metadata": {
    "collapsed": false
   }
  }
 ],
 "metadata": {
  "kernelspec": {
   "display_name": "Python 3",
   "language": "python",
   "name": "python3"
  },
  "language_info": {
   "codemirror_mode": {
    "name": "ipython",
    "version": 2
   },
   "file_extension": ".py",
   "mimetype": "text/x-python",
   "name": "python",
   "nbconvert_exporter": "python",
   "pygments_lexer": "ipython2",
   "version": "2.7.6"
  }
 },
 "nbformat": 4,
 "nbformat_minor": 0
}
